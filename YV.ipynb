{
 "cells": [
  {
   "cell_type": "code",
   "execution_count": 64,
   "id": "0c00c517-aada-49d0-b5f2-d8cb183e4295",
   "metadata": {},
   "outputs": [],
   "source": [
    "import pandas as pd\n",
    "import numpy as np"
   ]
  },
  {
   "cell_type": "code",
   "execution_count": 114,
   "id": "551420fb-ffa8-4ac3-a01d-a48027a98f62",
   "metadata": {},
   "outputs": [
    {
     "name": "stderr",
     "output_type": "stream",
     "text": [
      "C:\\Users\\LEE_S\\AppData\\Local\\Temp\\ipykernel_13824\\2538467064.py:1: DtypeWarning: Columns (13) have mixed types. Specify dtype option on import or set low_memory=False.\n",
      "  df = pd.read_csv('ABT.csv')\n"
     ]
    }
   ],
   "source": [
    "df = pd.read_csv('ABT.csv')"
   ]
  },
  {
   "cell_type": "code",
   "execution_count": 115,
   "id": "1eead6a2-5525-439d-ad7f-2031dfc06ff5",
   "metadata": {},
   "outputs": [
    {
     "data": {
      "text/html": [
       "<div>\n",
       "<style scoped>\n",
       "    .dataframe tbody tr th:only-of-type {\n",
       "        vertical-align: middle;\n",
       "    }\n",
       "\n",
       "    .dataframe tbody tr th {\n",
       "        vertical-align: top;\n",
       "    }\n",
       "\n",
       "    .dataframe thead th {\n",
       "        text-align: right;\n",
       "    }\n",
       "</style>\n",
       "<table border=\"1\" class=\"dataframe\">\n",
       "  <thead>\n",
       "    <tr style=\"text-align: right;\">\n",
       "      <th></th>\n",
       "      <th>ID</th>\n",
       "      <th>FIRSTDT</th>\n",
       "      <th>DAY_DIFF</th>\n",
       "      <th>SOURCE</th>\n",
       "      <th>IS_CONTRACT_APC</th>\n",
       "      <th>IS_CONTRACT_INC</th>\n",
       "      <th>IS_EMP</th>\n",
       "      <th>IS_CLAIM</th>\n",
       "      <th>IS_FB</th>\n",
       "      <th>IS_MEMBER</th>\n",
       "      <th>...</th>\n",
       "      <th>D56</th>\n",
       "      <th>D57</th>\n",
       "      <th>D58</th>\n",
       "      <th>D59</th>\n",
       "      <th>D60</th>\n",
       "      <th>D61</th>\n",
       "      <th>D62</th>\n",
       "      <th>D63</th>\n",
       "      <th>D65</th>\n",
       "      <th>D66</th>\n",
       "    </tr>\n",
       "  </thead>\n",
       "  <tbody>\n",
       "    <tr>\n",
       "      <th>0</th>\n",
       "      <td>#005432F5B4D312911</td>\n",
       "      <td>05JUN1993</td>\n",
       "      <td>11321</td>\n",
       "      <td>意外險</td>\n",
       "      <td>0</td>\n",
       "      <td>0</td>\n",
       "      <td>0</td>\n",
       "      <td>0</td>\n",
       "      <td>0</td>\n",
       "      <td>0</td>\n",
       "      <td>...</td>\n",
       "      <td>NaN</td>\n",
       "      <td>NaN</td>\n",
       "      <td>NaN</td>\n",
       "      <td>NaN</td>\n",
       "      <td>NaN</td>\n",
       "      <td>NaN</td>\n",
       "      <td>NaN</td>\n",
       "      <td>NaN</td>\n",
       "      <td>NaN</td>\n",
       "      <td>NaN</td>\n",
       "    </tr>\n",
       "    <tr>\n",
       "      <th>1</th>\n",
       "      <td>#010A3014A265DF94D</td>\n",
       "      <td>19APR1993</td>\n",
       "      <td>11368</td>\n",
       "      <td>意外險</td>\n",
       "      <td>0</td>\n",
       "      <td>0</td>\n",
       "      <td>0</td>\n",
       "      <td>0</td>\n",
       "      <td>0</td>\n",
       "      <td>0</td>\n",
       "      <td>...</td>\n",
       "      <td>NaN</td>\n",
       "      <td>NaN</td>\n",
       "      <td>NaN</td>\n",
       "      <td>NaN</td>\n",
       "      <td>NaN</td>\n",
       "      <td>NaN</td>\n",
       "      <td>NaN</td>\n",
       "      <td>NaN</td>\n",
       "      <td>NaN</td>\n",
       "      <td>NaN</td>\n",
       "    </tr>\n",
       "    <tr>\n",
       "      <th>2</th>\n",
       "      <td>#02238ADE059241E68</td>\n",
       "      <td>16JUN1993</td>\n",
       "      <td>11310</td>\n",
       "      <td>意外險</td>\n",
       "      <td>0</td>\n",
       "      <td>0</td>\n",
       "      <td>0</td>\n",
       "      <td>0</td>\n",
       "      <td>0</td>\n",
       "      <td>0</td>\n",
       "      <td>...</td>\n",
       "      <td>NaN</td>\n",
       "      <td>NaN</td>\n",
       "      <td>NaN</td>\n",
       "      <td>NaN</td>\n",
       "      <td>NaN</td>\n",
       "      <td>NaN</td>\n",
       "      <td>NaN</td>\n",
       "      <td>NaN</td>\n",
       "      <td>NaN</td>\n",
       "      <td>NaN</td>\n",
       "    </tr>\n",
       "    <tr>\n",
       "      <th>3</th>\n",
       "      <td>#023D96CE3BF169959</td>\n",
       "      <td>05JUN1993</td>\n",
       "      <td>11321</td>\n",
       "      <td>意外險</td>\n",
       "      <td>0</td>\n",
       "      <td>0</td>\n",
       "      <td>0</td>\n",
       "      <td>0</td>\n",
       "      <td>0</td>\n",
       "      <td>0</td>\n",
       "      <td>...</td>\n",
       "      <td>NaN</td>\n",
       "      <td>NaN</td>\n",
       "      <td>NaN</td>\n",
       "      <td>NaN</td>\n",
       "      <td>NaN</td>\n",
       "      <td>NaN</td>\n",
       "      <td>NaN</td>\n",
       "      <td>NaN</td>\n",
       "      <td>NaN</td>\n",
       "      <td>NaN</td>\n",
       "    </tr>\n",
       "    <tr>\n",
       "      <th>4</th>\n",
       "      <td>#0328BA853B310F5DF</td>\n",
       "      <td>16JUN1993</td>\n",
       "      <td>11310</td>\n",
       "      <td>意外險</td>\n",
       "      <td>0</td>\n",
       "      <td>0</td>\n",
       "      <td>0</td>\n",
       "      <td>0</td>\n",
       "      <td>0</td>\n",
       "      <td>0</td>\n",
       "      <td>...</td>\n",
       "      <td>NaN</td>\n",
       "      <td>NaN</td>\n",
       "      <td>NaN</td>\n",
       "      <td>NaN</td>\n",
       "      <td>NaN</td>\n",
       "      <td>NaN</td>\n",
       "      <td>NaN</td>\n",
       "      <td>NaN</td>\n",
       "      <td>NaN</td>\n",
       "      <td>NaN</td>\n",
       "    </tr>\n",
       "  </tbody>\n",
       "</table>\n",
       "<p>5 rows × 72 columns</p>\n",
       "</div>"
      ],
      "text/plain": [
       "                   ID    FIRSTDT  DAY_DIFF SOURCE  IS_CONTRACT_APC  \\\n",
       "0  #005432F5B4D312911  05JUN1993     11321    意外險                0   \n",
       "1  #010A3014A265DF94D  19APR1993     11368    意外險                0   \n",
       "2  #02238ADE059241E68  16JUN1993     11310    意外險                0   \n",
       "3  #023D96CE3BF169959  05JUN1993     11321    意外險                0   \n",
       "4  #0328BA853B310F5DF  16JUN1993     11310    意外險                0   \n",
       "\n",
       "   IS_CONTRACT_INC  IS_EMP  IS_CLAIM  IS_FB  IS_MEMBER  ...  D56  D57  D58  \\\n",
       "0                0       0         0      0          0  ...  NaN  NaN  NaN   \n",
       "1                0       0         0      0          0  ...  NaN  NaN  NaN   \n",
       "2                0       0         0      0          0  ...  NaN  NaN  NaN   \n",
       "3                0       0         0      0          0  ...  NaN  NaN  NaN   \n",
       "4                0       0         0      0          0  ...  NaN  NaN  NaN   \n",
       "\n",
       "  D59  D60  D61  D62  D63  D65  D66  \n",
       "0 NaN  NaN  NaN  NaN  NaN  NaN  NaN  \n",
       "1 NaN  NaN  NaN  NaN  NaN  NaN  NaN  \n",
       "2 NaN  NaN  NaN  NaN  NaN  NaN  NaN  \n",
       "3 NaN  NaN  NaN  NaN  NaN  NaN  NaN  \n",
       "4 NaN  NaN  NaN  NaN  NaN  NaN  NaN  \n",
       "\n",
       "[5 rows x 72 columns]"
      ]
     },
     "execution_count": 115,
     "metadata": {},
     "output_type": "execute_result"
    }
   ],
   "source": [
    "df.head()"
   ]
  },
  {
   "cell_type": "code",
   "execution_count": 116,
   "id": "4eca7cc6-4759-416c-a727-ee80074a0772",
   "metadata": {},
   "outputs": [
    {
     "data": {
      "text/plain": [
       "Index(['ID', 'FIRSTDT', 'DAY_DIFF', 'SOURCE', 'IS_CONTRACT_APC',\n",
       "       'IS_CONTRACT_INC', 'IS_EMP', 'IS_CLAIM', 'IS_FB', 'IS_MEMBER', 'IS_MML',\n",
       "       'IS_ACC', 'MAX_RGN_CODE', 'MAX_RGN_PLACE', 'MAX_ISSUE_DAYS',\n",
       "       'SUM_ISSUE_DAYS', 'SUM_of_STEP', 'HIGH_LV', 'A01', 'A02', 'A03', 'A04',\n",
       "       'A05', 'A06', 'A07', 'A08', 'A09', 'A10', 'A11', 'A12', 'A13', 'A14',\n",
       "       'A15', 'A17', 'A18', 'A19', 'A21', 'A22', 'A23', 'A24', 'A99', 'C01',\n",
       "       'C02', 'C03', 'C04', 'C05', 'C06', 'D01', 'D02', 'D03', 'D04', 'D05',\n",
       "       'D06', 'D07', 'D08', 'D09', 'D10', 'D12', 'D13', 'D51', 'D53', 'D55',\n",
       "       'D56', 'D57', 'D58', 'D59', 'D60', 'D61', 'D62', 'D63', 'D65', 'D66'],\n",
       "      dtype='object')"
      ]
     },
     "execution_count": 116,
     "metadata": {},
     "output_type": "execute_result"
    }
   ],
   "source": [
    "#欄位名稱\n",
    "df.columns"
   ]
  },
  {
   "cell_type": "code",
   "execution_count": 117,
   "id": "30a3b3a8-4db2-4c57-8251-dbf20c90048a",
   "metadata": {},
   "outputs": [],
   "source": [
    "# 指定要替換空值的欄位\n",
    "columns_to_fill = ['A01', 'A02', 'A03', 'A04', 'A05', 'A06', 'A07', 'A08', 'A09', 'A10', 'A11', 'A12', \n",
    "                   'A13', 'A14', 'A15', 'A17', 'A18', 'A19', 'A21', 'A22', 'A23', 'A24', 'A99', \n",
    "                   'C01', 'C02', 'C03', 'C04', 'C05', 'C06', 'D01', 'D02', 'D03', 'D04', 'D05', \n",
    "                   'D06', 'D07', 'D08', 'D09', 'D10', 'D12', 'D13', 'D51', 'D53', 'D55', 'D56', \n",
    "                   'D57', 'D58', 'D59', 'D60', 'D61', 'D62', 'D63', 'D65', 'D66']\n",
    "\n",
    "# 將指定欄位的空值替換為0\n",
    "df[columns_to_fill] = df[columns_to_fill].fillna(0)"
   ]
  },
  {
   "cell_type": "code",
   "execution_count": 199,
   "id": "79236b4a-7f15-4508-9b05-6a8e0c66e095",
   "metadata": {},
   "outputs": [],
   "source": [
    "df_unique = df.sort_values('HIGH_LV', ascending=False).drop_duplicates('ID', keep='first')"
   ]
  },
  {
   "cell_type": "code",
   "execution_count": 203,
   "id": "ec1a96da-f60b-4b68-a1dc-43e430b8ca47",
   "metadata": {},
   "outputs": [],
   "source": [
    "df_unique.to_csv('ABT.csv',index=False)"
   ]
  },
  {
   "cell_type": "code",
   "execution_count": 214,
   "id": "3edce038-ff73-403e-95eb-03baa7e04f6b",
   "metadata": {},
   "outputs": [],
   "source": [
    "df = df_unique"
   ]
  },
  {
   "cell_type": "code",
   "execution_count": 219,
   "id": "5bf13157-2bd0-452b-b1b0-5fda3e6970b8",
   "metadata": {},
   "outputs": [],
   "source": [
    "df = df[df['IS_MEMBER']==1]"
   ]
  },
  {
   "cell_type": "code",
   "execution_count": 220,
   "id": "965bb60f-0db7-4485-8d95-93c66bbc88a9",
   "metadata": {},
   "outputs": [
    {
     "data": {
      "text/plain": [
       "4167135"
      ]
     },
     "execution_count": 220,
     "metadata": {},
     "output_type": "execute_result"
    }
   ],
   "source": [
    "len(df)"
   ]
  },
  {
   "cell_type": "markdown",
   "id": "2c2a129f-a41c-4305-97cb-fd201dc1904e",
   "metadata": {},
   "source": [
    "# 全客戶"
   ]
  },
  {
   "cell_type": "markdown",
   "id": "def6f6fb-30b2-4a11-82e2-a4ff0a3e2d20",
   "metadata": {},
   "source": [
    "## 整體"
   ]
  },
  {
   "cell_type": "code",
   "execution_count": 221,
   "id": "33502ebc-d311-481f-8956-4c718bc1472a",
   "metadata": {},
   "outputs": [
    {
     "name": "stdout",
     "output_type": "stream",
     "text": [
      "st.markdown(f\"<p style='color: #6C6C6C;'>總ID數量：4,167,135</p>\", unsafe_allow_html=True)\n",
      "st.markdown(f\"<p style='color: #6C6C6C;'>曾經為要保人：3,380,125、約81.11％</p>\", unsafe_allow_html=True)\n",
      "st.markdown(f\"<p style='color: #6C6C6C;'>曾經為被保人：3,620,522、約86.88％</p>\", unsafe_allow_html=True)\n",
      "st.markdown(f\"<p style='color: #6C6C6C;'>曾經為理賠事故人：1,866,398、約44.79％</p>\", unsafe_allow_html=True)\n",
      "st.markdown(f\"<p style='color: #6C6C6C;'>曾經為員工：95,730、約2.3％</p>\", unsafe_allow_html=True)\n",
      "st.markdown(f\"<p style='color: #6C6C6C;'>曾經意外險被保人：587,866、約14.11％</p>\", unsafe_allow_html=True)\n",
      "st.markdown(f\"<p style='color: #6C6C6C;'>官網會員：4,167,135、約100.0％</p>\", unsafe_allow_html=True)\n",
      "st.markdown(f\"<p style='color: #6C6C6C;'>MML會員：2,712,877、約65.1％</p>\", unsafe_allow_html=True)\n",
      "st.markdown(f\"<p style='color: #6C6C6C;'>FitBack會員：1,097,939、約26.35％</p>\", unsafe_allow_html=True)\n",
      "st.markdown(f\"<p style='color: #6C6C6C;'>有旅平險：136,318、約3.27％</p>\", unsafe_allow_html=True)\n",
      "st.markdown(f\"<p style='color: #6C6C6C;'>至少一項服務通路：3,991,698、約95.79％</p>\", unsafe_allow_html=True)\n",
      "st.markdown(f\"<p style='color: #6C6C6C;'>什麼都沒有的人(沒旅平沒會員沒MML沒FitBack沒服務軌跡)：0、約0.0％</p>\", unsafe_allow_html=True)\n"
     ]
    }
   ],
   "source": [
    "tmp_n = len(df)\n",
    "formatted_tmp_n = \"{:,}\".format(tmp_n)\n",
    "print(f'''st.markdown(f\"<p style='color: #6C6C6C;'>總ID數量：{formatted_tmp_n}</p>\", unsafe_allow_html=True)''')\n",
    "\n",
    "tmp = df['IS_CONTRACT_APC'].sum()\n",
    "formatted_tmp = \"{:,}\".format(tmp)\n",
    "tmp_p = round(tmp/tmp_n*100,2)\n",
    "print(f'''st.markdown(f\"<p style='color: #6C6C6C;'>曾經為要保人：{formatted_tmp}、約{tmp_p}％</p>\", unsafe_allow_html=True)''')\n",
    "\n",
    "tmp = df['IS_CONTRACT_INC'].sum()\n",
    "formatted_tmp = \"{:,}\".format(tmp)\n",
    "tmp_p = round(tmp/tmp_n*100,2)\n",
    "print(f'''st.markdown(f\"<p style='color: #6C6C6C;'>曾經為被保人：{formatted_tmp}、約{tmp_p}％</p>\", unsafe_allow_html=True)''')\n",
    "\n",
    "tmp = df['IS_CLAIM'].sum()\n",
    "formatted_tmp = \"{:,}\".format(tmp)\n",
    "tmp_p = round(tmp/tmp_n*100,2)\n",
    "print(f'''st.markdown(f\"<p style='color: #6C6C6C;'>曾經為理賠事故人：{formatted_tmp}、約{tmp_p}％</p>\", unsafe_allow_html=True)''')\n",
    "\n",
    "tmp = df['IS_EMP'].sum()\n",
    "formatted_tmp = \"{:,}\".format(tmp)\n",
    "tmp_p = round(tmp/tmp_n*100,2)\n",
    "print(f'''st.markdown(f\"<p style='color: #6C6C6C;'>曾經為員工：{formatted_tmp}、約{tmp_p}％</p>\", unsafe_allow_html=True)''')\n",
    "\n",
    "tmp = df['IS_ACC'].sum()\n",
    "formatted_tmp = \"{:,}\".format(tmp)\n",
    "tmp_p = round(tmp/tmp_n*100,2)\n",
    "print(f'''st.markdown(f\"<p style='color: #6C6C6C;'>曾經意外險被保人：{formatted_tmp}、約{tmp_p}％</p>\", unsafe_allow_html=True)''')\n",
    "\n",
    "tmp = df['IS_MEMBER'].sum()\n",
    "formatted_tmp = \"{:,}\".format(tmp)\n",
    "tmp_p = round(tmp/tmp_n*100,2)\n",
    "print(f'''st.markdown(f\"<p style='color: #6C6C6C;'>官網會員：{formatted_tmp}、約{tmp_p}％</p>\", unsafe_allow_html=True)''')\n",
    "\n",
    "tmp = df['IS_MML'].sum()\n",
    "formatted_tmp = \"{:,}\".format(tmp)\n",
    "tmp_p = round(tmp/tmp_n*100,2)\n",
    "print(f'''st.markdown(f\"<p style='color: #6C6C6C;'>MML會員：{formatted_tmp}、約{tmp_p}％</p>\", unsafe_allow_html=True)''')\n",
    "\n",
    "tmp = df['IS_FB'].sum()\n",
    "formatted_tmp = \"{:,}\".format(tmp)\n",
    "tmp_p = round(tmp/tmp_n*100,2)\n",
    "print(f'''st.markdown(f\"<p style='color: #6C6C6C;'>FitBack會員：{formatted_tmp}、約{tmp_p}％</p>\", unsafe_allow_html=True)''')\n",
    "\n",
    "tmp = tmp_n - df['MAX_RGN_CODE'].isnull().sum()\n",
    "formatted_tmp = \"{:,}\".format(tmp)\n",
    "tmp_p = round(tmp/tmp_n*100,2)\n",
    "print(f'''st.markdown(f\"<p style='color: #6C6C6C;'>有旅平險：{formatted_tmp}、約{tmp_p}％</p>\", unsafe_allow_html=True)''')\n",
    "\n",
    "# 選擇指定的欄位\n",
    "columns_to_check = ['A01', 'A02', 'A03', 'A05', 'A07', 'A08', 'A09', 'A10', 'A13', 'A15', 'A17', 'A18', 'A19', 'A21', 'A24', 'A99']\n",
    "# 檢查這些欄位是否全為 NaN\n",
    "all_zero_rows = df[(df[columns_to_check] == 0).all(axis=1)]\n",
    "tmp = tmp_n - len(all_zero_rows) #至少有一項有值的人數\n",
    "formatted_tmp = \"{:,}\".format(tmp)\n",
    "tmp_p = round(tmp/tmp_n*100,2)\n",
    "print(f'''st.markdown(f\"<p style='color: #6C6C6C;'>至少一項服務通路：{formatted_tmp}、約{tmp_p}％</p>\", unsafe_allow_html=True)''')\n",
    "\n",
    "\n",
    "# 選擇指定的欄位\n",
    "columns_to_check = ['IS_FB', 'IS_MEMBER', 'IS_MML', 'SUM_ISSUE_DAYS', 'A01', 'A02', 'A03', 'A05', 'A07', 'A08', 'A09', 'A10', 'A13', 'A15', 'A17', 'A18', 'A19', 'A21', 'A24', 'A99']\n",
    "# 檢查這些欄位是否全為 NaN\n",
    "all_zero_rows = df[(df[columns_to_check].fillna(0) == 0).all(axis=1)]\n",
    "tmp =len(all_zero_rows) #至少有一項有值的人數\n",
    "formatted_tmp = \"{:,}\".format(tmp)\n",
    "tmp_p = round(tmp/tmp_n*100,2)\n",
    "print(f'''st.markdown(f\"<p style='color: #6C6C6C;'>什麼都沒有的人(沒旅平沒會員沒MML沒FitBack沒服務軌跡)：{formatted_tmp}、約{tmp_p}％</p>\", unsafe_allow_html=True)''')"
   ]
  },
  {
   "cell_type": "markdown",
   "id": "272146e6-74c8-4888-a0f1-c5db375a69eb",
   "metadata": {},
   "source": [
    "## 服務通路"
   ]
  },
  {
   "cell_type": "code",
   "execution_count": 222,
   "id": "fcdfd74b-4cbb-4283-8cfe-7b804b123ed1",
   "metadata": {},
   "outputs": [
    {
     "name": "stdout",
     "output_type": "stream",
     "text": [
      "st.write(f\"**各通路接觸次數**\")\n",
      "st.markdown(f\"<p style='color: #6C6C6C;'>有業務員服務：2,436,773、約58.48％</p>\", unsafe_allow_html=True)\n",
      "st.markdown(f\"<p style='color: #6C6C6C;'>有直效服務：743,946、約17.85％</p>\", unsafe_allow_html=True)\n",
      "st.markdown(f\"<p style='color: #6C6C6C;'>有服務中心櫃台服務：164,708、約3.95％</p>\", unsafe_allow_html=True)\n",
      "st.markdown(f\"<p style='color: #6C6C6C;'>有官網服務：740,759、約17.78％</p>\", unsafe_allow_html=True)\n",
      "st.markdown(f\"<p style='color: #6C6C6C;'>有MML服務：2,423,043、約58.15％</p>\", unsafe_allow_html=True)\n",
      "st.markdown(f\"<p style='color: #6C6C6C;'>有電話_0800服務：387,633、約9.3％</p>\", unsafe_allow_html=True)\n",
      "st.markdown(f\"<p style='color: #6C6C6C;'>有電話_0900服務：270,547、約6.49％</p>\", unsafe_allow_html=True)\n",
      "st.markdown(f\"<p style='color: #6C6C6C;'>有簡訊服務：2,478,018、約59.47％</p>\", unsafe_allow_html=True)\n",
      "st.markdown(f\"<p style='color: #6C6C6C;'>有停效催繳提醒服務：722,882、約17.35％</p>\", unsafe_allow_html=True)\n",
      "st.markdown(f\"<p style='color: #6C6C6C;'>有MAIL HUNTER服務：3,536,693、約84.87％</p>\", unsafe_allow_html=True)\n",
      "st.markdown(f\"<p style='color: #6C6C6C;'>有BILL HUNTER服務：2,498,621、約59.96％</p>\", unsafe_allow_html=True)\n",
      "st.markdown(f\"<p style='color: #6C6C6C;'>有LINE服務：67,249、約1.61％</p>\", unsafe_allow_html=True)\n",
      "st.markdown(f\"<p style='color: #6C6C6C;'>有行銷網站服務：75,125、約1.8％</p>\", unsafe_allow_html=True)\n",
      "st.markdown(f\"<p style='color: #6C6C6C;'>有紙本通知服務：1,483,021、約35.59％</p>\", unsafe_allow_html=True)\n",
      "st.markdown(f\"<p style='color: #6C6C6C;'>有放款業務服務：442,038、約10.61％</p>\", unsafe_allow_html=True)\n"
     ]
    }
   ],
   "source": [
    "print(f'''st.write(f\"**各通路接觸次數**\")''')\n",
    "tmp_n = len(df)\n",
    "# 選擇指定的欄位\n",
    "columns_to_check = ['A01', 'A02']\n",
    "# 檢查這些欄位是否全為 NaN\n",
    "all_zero_rows = (df[columns_to_check] == 0).all(axis=1).sum()\n",
    "tmp = tmp_n - all_zero_rows #至少有一項有值的人數\n",
    "formatted_tmp_n = \"{:,}\".format(tmp)\n",
    "tmp_p = round(tmp/tmp_n*100,2)\n",
    "print(f'''st.markdown(f\"<p style='color: #6C6C6C;'>有業務員服務：{formatted_tmp_n}、約{tmp_p}％</p>\", unsafe_allow_html=True)''')\n",
    "\n",
    "\n",
    "# 選擇指定的欄位\n",
    "columns_to_check = ['A03']\n",
    "# 檢查這些欄位是否全為 NaN\n",
    "tmp = (df[columns_to_check]>0).sum()[0]\n",
    "formatted_tmp = \"{:,}\".format(tmp)\n",
    "tmp_p = round(tmp/tmp_n*100,2)\n",
    "print(f'''st.markdown(f\"<p style='color: #6C6C6C;'>有直效服務：{formatted_tmp}、約{tmp_p}％</p>\", unsafe_allow_html=True)''')\n",
    "\n",
    "# 選擇指定的欄位\n",
    "columns_to_check = ['A05']\n",
    "# 檢查這些欄位是否全為 NaN\n",
    "tmp = (df[columns_to_check]>0).sum()[0]\n",
    "formatted_tmp = \"{:,}\".format(tmp)\n",
    "tmp_p = round(tmp/tmp_n*100,2)\n",
    "print(f'''st.markdown(f\"<p style='color: #6C6C6C;'>有服務中心櫃台服務：{formatted_tmp}、約{tmp_p}％</p>\", unsafe_allow_html=True)''')\n",
    "\n",
    "# 選擇指定的欄位\n",
    "columns_to_check = ['A07']\n",
    "# 檢查這些欄位是否全為 NaN\n",
    "tmp = (df[columns_to_check]>0).sum()[0]\n",
    "formatted_tmp = \"{:,}\".format(tmp)\n",
    "tmp_p = round(tmp/tmp_n*100,2)\n",
    "print(f'''st.markdown(f\"<p style='color: #6C6C6C;'>有官網服務：{formatted_tmp}、約{tmp_p}％</p>\", unsafe_allow_html=True)''')\n",
    "\n",
    "# 選擇指定的欄位\n",
    "columns_to_check = ['A08']\n",
    "# 檢查這些欄位是否全為 NaN\n",
    "tmp = ((df['A08'] > 0) & (df['IS_MML'] == 1)).sum()\n",
    "formatted_tmp = \"{:,}\".format(tmp)\n",
    "tmp_p = round(tmp/tmp_n*100,2)\n",
    "print(f'''st.markdown(f\"<p style='color: #6C6C6C;'>有MML服務：{formatted_tmp}、約{tmp_p}％</p>\", unsafe_allow_html=True)''')\n",
    "\n",
    "# 選擇指定的欄位\n",
    "columns_to_check = ['A09']\n",
    "# 檢查這些欄位是否全為 NaN\n",
    "tmp = (df[columns_to_check]>0).sum()[0]\n",
    "formatted_tmp = \"{:,}\".format(tmp)\n",
    "tmp_p = round(tmp/tmp_n*100,2)\n",
    "print(f'''st.markdown(f\"<p style='color: #6C6C6C;'>有電話_0800服務：{formatted_tmp}、約{tmp_p}％</p>\", unsafe_allow_html=True)''')\n",
    "\n",
    "# 選擇指定的欄位\n",
    "columns_to_check = ['A10']\n",
    "# 檢查這些欄位是否全為 NaN\n",
    "tmp = (df[columns_to_check]>0).sum()[0]\n",
    "formatted_tmp = \"{:,}\".format(tmp)\n",
    "tmp_p = round(tmp/tmp_n*100,2)\n",
    "print(f'''st.markdown(f\"<p style='color: #6C6C6C;'>有電話_0900服務：{formatted_tmp}、約{tmp_p}％</p>\", unsafe_allow_html=True)''')\n",
    "\n",
    "# 選擇指定的欄位\n",
    "columns_to_check = ['A13']\n",
    "# 檢查這些欄位是否全為 NaN\n",
    "tmp = (df[columns_to_check]>0).sum()[0]\n",
    "formatted_tmp = \"{:,}\".format(tmp)\n",
    "tmp_p = round(tmp/tmp_n*100,2)\n",
    "print(f'''st.markdown(f\"<p style='color: #6C6C6C;'>有簡訊服務：{formatted_tmp}、約{tmp_p}％</p>\", unsafe_allow_html=True)''')\n",
    "\n",
    "# 選擇指定的欄位\n",
    "columns_to_check = ['A15']\n",
    "# 檢查這些欄位是否全為 NaN\n",
    "tmp = (df[columns_to_check]>0).sum()[0]\n",
    "formatted_tmp = \"{:,}\".format(tmp)\n",
    "tmp_p = round(tmp/tmp_n*100,2)\n",
    "print(f'''st.markdown(f\"<p style='color: #6C6C6C;'>有停效催繳提醒服務：{formatted_tmp}、約{tmp_p}％</p>\", unsafe_allow_html=True)''')\n",
    "\n",
    "# 選擇指定的欄位\n",
    "columns_to_check = ['A17']\n",
    "# 檢查這些欄位是否全為 NaN\n",
    "tmp = (df[columns_to_check]>0).sum()[0]\n",
    "formatted_tmp = \"{:,}\".format(tmp)\n",
    "tmp_p = round(tmp/tmp_n*100,2)\n",
    "print(f'''st.markdown(f\"<p style='color: #6C6C6C;'>有MAIL HUNTER服務：{formatted_tmp}、約{tmp_p}％</p>\", unsafe_allow_html=True)''')\n",
    "\n",
    "# 選擇指定的欄位\n",
    "columns_to_check = ['A18']\n",
    "# 檢查這些欄位是否全為 NaN\n",
    "tmp = (df[columns_to_check]>0).sum()[0]\n",
    "formatted_tmp = \"{:,}\".format(tmp)\n",
    "tmp_p = round(tmp/tmp_n*100,2)\n",
    "print(f'''st.markdown(f\"<p style='color: #6C6C6C;'>有BILL HUNTER服務：{formatted_tmp}、約{tmp_p}％</p>\", unsafe_allow_html=True)''')\n",
    "\n",
    "# 選擇指定的欄位\n",
    "columns_to_check = ['A19']\n",
    "# 檢查這些欄位是否全為 NaN\n",
    "tmp = (df[columns_to_check]>0).sum()[0]\n",
    "formatted_tmp = \"{:,}\".format(tmp)\n",
    "tmp_p = round(tmp/tmp_n*100,2)\n",
    "print(f'''st.markdown(f\"<p style='color: #6C6C6C;'>有LINE服務：{formatted_tmp}、約{tmp_p}％</p>\", unsafe_allow_html=True)''')\n",
    "\n",
    "# 選擇指定的欄位\n",
    "columns_to_check = ['A21']\n",
    "# 檢查這些欄位是否全為 NaN\n",
    "tmp = (df[columns_to_check]>0).sum()[0]\n",
    "formatted_tmp = \"{:,}\".format(tmp)\n",
    "tmp_p = round(tmp/tmp_n*100,2)\n",
    "print(f'''st.markdown(f\"<p style='color: #6C6C6C;'>有行銷網站服務：{formatted_tmp}、約{tmp_p}％</p>\", unsafe_allow_html=True)''')\n",
    "\n",
    "# 選擇指定的欄位\n",
    "columns_to_check = ['A24']\n",
    "# 檢查這些欄位是否全為 NaN\n",
    "tmp = (df[columns_to_check]>0).sum()[0]\n",
    "formatted_tmp = \"{:,}\".format(tmp)\n",
    "tmp_p = round(tmp/tmp_n*100,2)\n",
    "print(f'''st.markdown(f\"<p style='color: #6C6C6C;'>有紙本通知服務：{formatted_tmp}、約{tmp_p}％</p>\", unsafe_allow_html=True)''')\n",
    "\n",
    "\n",
    "# 選擇指定的欄位\n",
    "columns_to_check = ['A99']\n",
    "# 檢查這些欄位是否全為 NaN\n",
    "tmp = (df[columns_to_check]>0).sum()[0]\n",
    "formatted_tmp = \"{:,}\".format(tmp)\n",
    "tmp_p = round(tmp/tmp_n*100,2)\n",
    "print(f'''st.markdown(f\"<p style='color: #6C6C6C;'>有放款業務服務：{formatted_tmp}、約{tmp_p}％</p>\", unsafe_allow_html=True)''')"
   ]
  },
  {
   "cell_type": "code",
   "execution_count": null,
   "id": "290f3bb1-15ca-4c40-a069-4b964ff6eea4",
   "metadata": {},
   "outputs": [],
   "source": []
  },
  {
   "cell_type": "markdown",
   "id": "17467456-0fe0-44e9-b2bd-e2935aa801a4",
   "metadata": {},
   "source": [
    "## 其他數據"
   ]
  },
  {
   "cell_type": "code",
   "execution_count": 223,
   "id": "b131f07f-7e3f-4729-8af9-a90f903f6806",
   "metadata": {},
   "outputs": [
    {
     "name": "stdout",
     "output_type": "stream",
     "text": [
      "st.write(f\"**其他大盤數據**\")\n",
      "st.markdown(f\"<p style='color: #6C6C6C;'>FitBack樂想家：941,735、約22.6％</p>\", unsafe_allow_html=True)\n",
      "st.markdown(f\"<p style='color: #6C6C6C;'>FitBack探索家：29,684、約0.71％</p>\", unsafe_allow_html=True)\n",
      "st.markdown(f\"<p style='color: #6C6C6C;'>FitBack實踐家：39,773、約0.95％</p>\", unsafe_allow_html=True)\n",
      "st.markdown(f\"<p style='color: #6C6C6C;'>FitBack有上傳步數人數：409,595、約9.83％</p>\", unsafe_allow_html=True)\n",
      "st.markdown(f\"<p style='color: #6C6C6C;'>FitBack平均步數：919,251.43</p>\", unsafe_allow_html=True)\n"
     ]
    }
   ],
   "source": [
    "print(f'''st.write(f\"**其他大盤數據**\")''')\n",
    "tmp_n = len(df)\n",
    "\n",
    "# 選擇指定的欄位\n",
    "tmp = (df['HIGH_LV'] == 1).sum()\n",
    "formatted_tmp_n = \"{:,}\".format(tmp)\n",
    "tmp_p = round(tmp/tmp_n*100,2)\n",
    "print(f'''st.markdown(f\"<p style='color: #6C6C6C;'>FitBack樂想家：{formatted_tmp_n}、約{tmp_p}％</p>\", unsafe_allow_html=True)''')\n",
    "\n",
    "# 選擇指定的欄位\n",
    "tmp = (df['HIGH_LV'] == 2).sum()\n",
    "formatted_tmp_n = \"{:,}\".format(tmp)\n",
    "tmp_p = round(tmp/tmp_n*100,2)\n",
    "print(f'''st.markdown(f\"<p style='color: #6C6C6C;'>FitBack探索家：{formatted_tmp_n}、約{tmp_p}％</p>\", unsafe_allow_html=True)''')\n",
    "\n",
    "# 選擇指定的欄位\n",
    "tmp = (df['HIGH_LV'] > 2).sum()\n",
    "formatted_tmp_n = \"{:,}\".format(tmp)\n",
    "tmp_p = round(tmp/tmp_n*100,2)\n",
    "print(f'''st.markdown(f\"<p style='color: #6C6C6C;'>FitBack實踐家：{formatted_tmp_n}、約{tmp_p}％</p>\", unsafe_allow_html=True)''')\n",
    "\n",
    "# 選擇指定的欄位\n",
    "tmp = (df['SUM_of_STEP'] > 0).sum()\n",
    "formatted_tmp_n = \"{:,}\".format(tmp)\n",
    "tmp_p = round(tmp/tmp_n*100,2)\n",
    "print(f'''st.markdown(f\"<p style='color: #6C6C6C;'>FitBack有上傳步數人數：{formatted_tmp_n}、約{tmp_p}％</p>\", unsafe_allow_html=True)''')\n",
    "\n",
    "# 選擇指定的欄位\n",
    "tmp = df['SUM_of_STEP'].sum()/(df['SUM_of_STEP'] > 0).sum()\n",
    "tmp = round(tmp,2)\n",
    "formatted_tmp_n = \"{:,}\".format(tmp)\n",
    "tmp_p = round(tmp/tmp_n*100,2)\n",
    "print(f'''st.markdown(f\"<p style='color: #6C6C6C;'>FitBack平均步數：{formatted_tmp_n}</p>\", unsafe_allow_html=True)''')\n"
   ]
  },
  {
   "cell_type": "code",
   "execution_count": null,
   "id": "1f0e9034-20ef-4a8a-9729-b2dfa9c91085",
   "metadata": {},
   "outputs": [],
   "source": []
  },
  {
   "cell_type": "code",
   "execution_count": null,
   "id": "cbebee83-afe2-4fd5-b44b-bcd95d12ba39",
   "metadata": {},
   "outputs": [],
   "source": []
  },
  {
   "cell_type": "markdown",
   "id": "fecc0371-b47c-4cff-9eb5-acfddb44af05",
   "metadata": {},
   "source": [
    "# 儲存範例資料"
   ]
  },
  {
   "cell_type": "code",
   "execution_count": 207,
   "id": "2ad23df3-cf77-4370-a0d8-0094c24176fa",
   "metadata": {},
   "outputs": [],
   "source": [
    "df_shuffled = df.sample(frac=1).reset_index(drop=True).head(10000)\n",
    "\n",
    "# 將結果保存為 CSV 文件\n",
    "df_shuffled.to_csv('ABT_T.csv', index=False)"
   ]
  },
  {
   "cell_type": "code",
   "execution_count": null,
   "id": "789f0138-b362-4e2b-8982-c7bac3184ed6",
   "metadata": {},
   "outputs": [],
   "source": []
  },
  {
   "cell_type": "code",
   "execution_count": 224,
   "id": "4672e955-ff07-4d04-902e-16a3195fcd8e",
   "metadata": {},
   "outputs": [],
   "source": [
    "df_shuffled = df.sample(frac=1).reset_index(drop=True).head(10000)\n",
    "\n",
    "# 將結果保存為 CSV 文件\n",
    "df_shuffled.to_csv('ABT_T2.csv', index=False)"
   ]
  },
  {
   "cell_type": "code",
   "execution_count": null,
   "id": "2856274a-decc-4022-bc30-7684e31c223e",
   "metadata": {},
   "outputs": [],
   "source": []
  },
  {
   "cell_type": "code",
   "execution_count": 205,
   "id": "ae8ffc4d-8d65-4bea-b396-75e8f9566722",
   "metadata": {},
   "outputs": [],
   "source": [
    "# 想篩選的ID列表\n",
    "id_list = ['A18434FFF04818EB88', 'F2145A73B19B29060F', 'S17E435DA94E7D0BAB', 'U25C08B91577F3BBBF']\n",
    "\n",
    "# 使用isin方法篩選DataFrame\n",
    "filtered_data = df[df['ID'].isin(id_list)]"
   ]
  },
  {
   "cell_type": "code",
   "execution_count": 208,
   "id": "3ed86833-78c4-4763-98e4-b22dcf23c77d",
   "metadata": {},
   "outputs": [],
   "source": [
    "filtered_data.to_csv('ABT_S.csv', index=False)"
   ]
  },
  {
   "cell_type": "code",
   "execution_count": null,
   "id": "409bce78-0624-4880-8657-aa4879867144",
   "metadata": {},
   "outputs": [],
   "source": []
  },
  {
   "cell_type": "code",
   "execution_count": null,
   "id": "1ff7dbd8-8952-4bbd-b6bc-0ccc520fd7e4",
   "metadata": {},
   "outputs": [],
   "source": []
  },
  {
   "cell_type": "code",
   "execution_count": null,
   "id": "2d22211d-7b95-4539-9af6-72db68a9fcf6",
   "metadata": {},
   "outputs": [],
   "source": []
  },
  {
   "cell_type": "code",
   "execution_count": null,
   "id": "2bcbe474-0198-4da9-822c-14d336dea461",
   "metadata": {},
   "outputs": [],
   "source": []
  },
  {
   "cell_type": "code",
   "execution_count": null,
   "id": "0a868b18-f908-4c1c-abed-eb4563b05f24",
   "metadata": {},
   "outputs": [],
   "source": []
  },
  {
   "cell_type": "code",
   "execution_count": null,
   "id": "5378dc9c-3850-4b1a-9f84-f5b81b902866",
   "metadata": {},
   "outputs": [],
   "source": []
  },
  {
   "cell_type": "code",
   "execution_count": null,
   "id": "e889b3d7-72c0-4c8b-85ee-74c8faaed79b",
   "metadata": {},
   "outputs": [],
   "source": []
  },
  {
   "cell_type": "code",
   "execution_count": null,
   "id": "5d426d3c-6a96-4f0a-b375-f6da44da7b3c",
   "metadata": {},
   "outputs": [],
   "source": []
  },
  {
   "cell_type": "code",
   "execution_count": null,
   "id": "db26adc5-3d92-42ec-92eb-d17cabe58ad6",
   "metadata": {},
   "outputs": [],
   "source": []
  }
 ],
 "metadata": {
  "kernelspec": {
   "display_name": "Python 3 (ipykernel)",
   "language": "python",
   "name": "python3"
  },
  "language_info": {
   "codemirror_mode": {
    "name": "ipython",
    "version": 3
   },
   "file_extension": ".py",
   "mimetype": "text/x-python",
   "name": "python",
   "nbconvert_exporter": "python",
   "pygments_lexer": "ipython3",
   "version": "3.10.14"
  }
 },
 "nbformat": 4,
 "nbformat_minor": 5
}
