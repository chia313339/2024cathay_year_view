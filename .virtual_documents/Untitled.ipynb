


import pandas as pd
import numpy as np


import warnings
warnings.filterwarnings('ignore')


df = pd.read_csv('ABT_F2.csv', encoding='big5')


# 指定要替換空值的欄位
columns_to_fill = ['A01', 'A02', 'A03', 'A04', 'A05', 'A06', 'A07', 'A08', 'A09', 'A10', 'A11', 'A12', 
                   'A13', 'A14', 'A15', 'A17', 'A18', 'A19', 'A21', 'A22', 'A23', 'A24', 'A99', 
                   'C01', 'C02', 'C03', 'C04', 'C05', 'C06', 'D01', 'D02', 'D03', 'D04', 'D05', 
                   'D06', 'D07', 'D08', 'D09', 'D10', 'D12', 'D13', 'D51', 'D53', 'D55', 'D56', 
                   'D57', 'D58', 'D59', 'D60', 'D61', 'D62', 'D63', 'D65', 'D66','N_POLICY_NO', 'SUM_of_HOSPITAL', 'SUM_of_SURGERY',
       'SUM_of_PAYG', 'SUM_of_IS_SERIOUS', 'SUM_of_SERIOUS_CANCER',
       'SUM_of_IS_ACCIDENT', 'SUM_of_IS_LONG', 'SUM_of_IS_LIFE',
       'COUNT_A_ACCIDENT', 'COUNT_D_LIFE', 'COUNT_FR_FIXED_RATE',
       'COUNT_H_HOSPITAL', 'COUNT_I_INVESTMENT', 'COUNT_IS_VARIABLE_RATE',
       'COUNT_L_LONGTERM_CARE', 'COUNT_M_MAJOR_ILLNESS',
       'COUNT_R_REIMBURSEMENT', 'COUNT_S_SURGERY', 'COUNT_W_WAIVER',
       'COUNT_Z_OTHER']

# 將指定欄位的空值替換為0
df[columns_to_fill] = df[columns_to_fill].fillna(0)


df.head()


#欄位名稱
df.columns


df_unique = df.sort_values('HIGH_LV', ascending=False).drop_duplicates('ID', keep='first')


# df_unique.to_csv('ABT.csv',index=False)


# 數位客戶
df = df_unique[df_unique['IS_MEMBER']==1]
len(df)





# 分位數會沿用到全客戶
# 計算分位數
seniority_q75 = df['DAY_DIFF'].quantile(0.75)
seniority_q50 = df['DAY_DIFF'].quantile(0.5)
seniority_q25 = df['DAY_DIFF'].quantile(0.25)
mml_q75 = df['A08'].quantile(0.75)
ag_q90 = (df['A01'] + df['A02']).quantile(0.9)
c800_q91 = df['A09'].quantile(0.91)
digital_q75 = (df['A08'] + df['A07']).quantile(0.75)


def classify(row):
    if row['IS_FB'] == 1 and row['IS_EMP'] == 0 and row['HIGH_LV'] >= 2:
        return 1
    elif row['IS_FB'] == 1 and row['HIGH_LV'] < 2 and row['SUM_of_STEP'] > 0:
        return 2
    elif row['IS_FB'] == 1 and row['HIGH_LV'] < 2 and (pd.isnull(row['SUM_of_STEP']) or row['SUM_of_STEP'] == 0) and row['A08'] >= mml_q75:
        return 3
    elif row['IS_FB'] == 1 and row['HIGH_LV'] < 2 and (pd.isnull(row['SUM_of_STEP']) or row['SUM_of_STEP'] == 0) and row['A08'] < mml_q75:
        return 4
    elif row['IS_FB'] == 0 and row['SUM_ISSUE_DAYS'] > 0:
        return 5
    elif row['IS_FB'] == 0 and (pd.isnull(row['SUM_ISSUE_DAYS']) or row['SUM_ISSUE_DAYS'] == 0) and row['A09'] >= c800_q91:
        return 6
    elif row['IS_FB'] == 0 and (pd.isnull(row['SUM_ISSUE_DAYS']) or row['SUM_ISSUE_DAYS'] == 0) and row['A09'] < c800_q91 and (row['A01'] + row['A02']) >= ag_q90:
        return 7
    elif row['IS_FB'] == 0 and (pd.isnull(row['SUM_ISSUE_DAYS']) or row['SUM_ISSUE_DAYS'] == 0) and row['A09'] < c800_q91 and (row['A01'] + row['A02']) >= ag_q90 and (row['A08'] + row['A07']) >= digital_q75:
        return 8
    elif row['IS_FB'] == 0 and (pd.isnull(row['SUM_ISSUE_DAYS']) or row['SUM_ISSUE_DAYS'] == 0) and row['A09'] < c800_q91 and (row['A01'] + row['A02']) < ag_q90 and (row['A08'] + row['A07']) < digital_q75 and row['DAY_DIFF'] >= seniority_q75:
        return 9
    elif row['IS_FB'] == 0 and (pd.isnull(row['SUM_ISSUE_DAYS']) or row['SUM_ISSUE_DAYS'] == 0) and row['A09'] < c800_q91 and (row['A01'] + row['A02']) < ag_q90 and (row['A08'] + row['A07']) < digital_q75 and row['DAY_DIFF'] < seniority_q75 and row['DAY_DIFF'] >= seniority_q50:
        return 10
    elif row['IS_FB'] == 0 and (pd.isnull(row['SUM_ISSUE_DAYS']) or row['SUM_ISSUE_DAYS'] == 0) and row['A09'] < c800_q91 and (row['A01'] + row['A02']) < ag_q90 and (row['A08'] + row['A07']) < digital_q75 and row['DAY_DIFF'] < seniority_q50 and row['DAY_DIFF'] >= seniority_q25:
        return 11
    elif row['IS_FB'] == 0 and (pd.isnull(row['SUM_ISSUE_DAYS']) or row['SUM_ISSUE_DAYS'] == 0) and row['A09'] < c800_q91 and (row['A01'] + row['A02']) < ag_q90 and (row['A08'] + row['A07']) < digital_q75 and row['DAY_DIFF'] < seniority_q25:
        return 12
    else:
        if row['DAY_DIFF'] >= seniority_q75:
            return 9
        elif row['DAY_DIFF'] < seniority_q75 and row['DAY_DIFF'] >= seniority_q50:
            return 10
        elif row['DAY_DIFF'] < seniority_q50 and row['DAY_DIFF'] >= seniority_q25:
            return 11
        else:
            return 12


# 對DataFrame應用分類函數
df['CLASS'] = df.apply(classify, axis=1)

# 顯示結果
df.head()


# 計算 df['result'] 各值的出現次數和占比
result_counts = df['CLASS'].value_counts().sort_index()
result_percentages = df['CLASS'].value_counts(normalize=True).sort_index() * 100

print(result_counts)
print(result_percentages)


# 想篩選的ID列表
id_list = ['A18434FFF04818EB88', 'F2145A73B19B29060F', 'S17E435DA94E7D0BAB', 'U25C08B91577F3BBBF']

# 使用isin方法篩選DataFrame
filtered_data = df[df['ID'].isin(id_list)]
filtered_data











# 數位客戶
df = df_unique
len(df)


# 對DataFrame應用分類函數
df['CLASS'] = df.apply(classify, axis=1)

# 顯示結果
df.head()


# 計算 df['result'] 各值的出現次數和占比
result_counts = df['CLASS'].value_counts().sort_index()
result_percentages = df['CLASS'].value_counts(normalize=True).sort_index() * 100

print(result_counts)
print(result_percentages)


# 想篩選的ID列表
id_list = ['A18434FFF04818EB88', 'F2145A73B19B29060F', 'S17E435DA94E7D0BAB', 'U25C08B91577F3BBBF']

# 使用isin方法篩選DataFrame
filtered_data = df[df['ID'].isin(id_list)]
filtered_data


# 將結果保存為 CSV 文件
df.to_csv('ABT.csv', index=False)



