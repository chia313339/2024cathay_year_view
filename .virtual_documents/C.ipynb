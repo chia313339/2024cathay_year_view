import pandas as pd


df = pd.read_csv('ABT.csv')


df.to_csv('ABT.csv', index=False)


df.head()


#欄位名稱
df.columns


# 基底分母
all_num = len(df)
print('全客戶有:',all_num)
member_num = sum(df['IS_MEMBER']==1)
print('官網會員有:',member_num)








# 计算分位数
seniority_q10 = df['DAY_DIFF'].quantile(0.10)
seniority_q75 = df['DAY_DIFF'].quantile(0.75)
travel_q50 = df['SUM_ISSUE_DAYS'].quantile(0.50)
ag_q75 = (df['A01'] + df['A02']).quantile(0.75)
ag_q90 = (df['A01'] + df['A02']).quantile(0.90)
mml_q50 = df['A08'].quantile(0.50)
c800_q90 = df['A08'].quantile(0.90)


def calculate_result(row, seniority_q10, seniority_q75, travel_q50, ag_q75, ag_q90, mml_q50, c800_q90):
    A01_A02 = row['A01'] + row['A02']
    SUM_ISSUE_DAYS = row['SUM_ISSUE_DAYS']

    if row['DAY_DIFF'] < seniority_q10:
        if row['IS_MEMBER'] == 1 and row['IS_MML'] == 1 and row['IS_FB'] == 1:
            return 1
        elif row['IS_MEMBER'] == 1 and row['IS_MML'] == 0 and row['IS_FB'] == 0:
            return 2
    elif row['DAY_DIFF'] >= seniority_q75:
        if row['IS_MEMBER'] == 1 and row['IS_MML'] == 1 and row['IS_FB'] == 1 and row['HIGH_LV'] >= 3:
            return 3
        elif row['IS_MEMBER'] == 1 and row['IS_MML'] == 0 and row['IS_FB'] == 0 and A01_A02 >= ag_q75:
            return 4
    elif seniority_q10 <= row['DAY_DIFF'] < seniority_q75:
        if SUM_ISSUE_DAYS >= travel_q50:
            return 5
        elif (SUM_ISSUE_DAYS < travel_q50 or pd.isnull(SUM_ISSUE_DAYS)):
            if A01_A02 >= ag_q90:
                return 6
            elif A01_A02 > 0 and A01_A02 < ag_q90:
                if row['A09'] == 0 and row['A24'] == 0 and row['A13'] == 0:
                    return 7
                elif row['A09'] >= c800_q90:
                    return 8
            elif A01_A02 == 0:
                if row['A08'] >= row['A07']:
                    if row['A08'] >= mml_q50:
                        if row['HIGH_LV'] >= 1:
                            return 9
                        elif row['HIGH_LV'] < 1 or pd.isnull(row['HIGH_LV']):
                            return 10
                    elif row['A08'] < mml_q50:
                        return 11
                elif row['A08'] < row['A07']:
                    if row['A17'] == 0 and row['A18'] == 0:
                        return 12
    return 13



# 应用函数计算结果
df['result'] = df.apply(lambda row: calculate_result(row, seniority_q10, seniority_q75, travel_q50, ag_q75, ag_q90, mml_q50, c800_q90), axis=1)



# 計算 df['result'] 各值的出現次數和占比
result_counts = df['result'].value_counts().sort_index()
result_percentages = df['result'].value_counts(normalize=True).sort_index() * 100


print(result_counts)
print(result_percentages)





























df_c1 = df[(df['IS_MEMBER'] == 1) | (df['IS_MML'] == 1)]
print('有官網會員、或 MML 會員任一',len(df_c1))


df_c2 = df[-((df['IS_MEMBER'] == 1) | (df['IS_MML'] == 1))]
print('沒有會員',len(df_c2))








df_c11 = df_c1[df_c1['SUM_ISSUE_DAYS']>0]
print('2023 有保國外旅平險',len(df_c11))


df_c12 = df_c1[-(df_c1['SUM_ISSUE_DAYS']>0)]
print('2023 沒保國外旅平險',len(df_c12))








# 删除SUM_ISSUE_DAYS列中的缺失值
filtered_df = df_c11['SUM_ISSUE_DAYS'].dropna()
print('有旅行險的資料有',len(filtered_df))
# 计算51分位数
quantile = filtered_df.quantile(0.51)
print("旅平險天數的51分位數是：", quantile)
tmp = sum(df_c11['SUM_ISSUE_DAYS']>=6)
print('2023 有保國外旅平險，PR值>=51人數:',tmp,'(',round(tmp/all_num*100,2),'%)')
tmp = sum(df_c11['SUM_ISSUE_DAYS']<6)
print('2023 有保國外旅平險，PR值<51人數:',tmp,'(',round(tmp/all_num*100,2),'%)')











# 删除SUM_ISSUE_DAYS列中的缺失值
print('沒有旅行險的資料有',len(df_c12))
filtered_df = df_c12['DAY_DIFF'].dropna()
q_80 = filtered_df.quantile(0.80)
print("年資的80分位數是：", q_80)
q_49 = filtered_df.quantile(0.49)
print("年資的49分位數是：", q_49)
print("")
tmp = sum(df_c12['DAY_DIFF']>=10432) 
print('2023 沒保國外旅平險，年資 PR值>=80人數:',tmp,'(',round(tmp/len(df_c12)*100,2),'%)')
tmp = sum((df_c12['DAY_DIFF'] >= 8130) & (df_c12['DAY_DIFF'] < 10432))
print('2023 沒保國外旅平險，年資 PR值>=49 <80人數:',tmp,'(',round(tmp/len(df_c12)*100,2),'%)')
tmp = sum(df_c12['DAY_DIFF'] < 8130)
print('2023 沒保國外旅平險，年資 PR值<49人數:',tmp,'(',round(tmp/len(df_c12)*100,2),'%)，繼續分群')








df = df[df['IS_MEMBER'] == 1]


len(df)


def calculate_result(row, travel_q51, seniority_q80, seniority_q49, step_q51):
    if (row['IS_MEMBER'] == 1 or row['IS_MML'] == 1):
        if row['SUM_ISSUE_DAYS'] >= travel_q51:
            return 1
        elif row['SUM_ISSUE_DAYS'] < travel_q51:
            return 2
        elif pd.isna(row['SUM_ISSUE_DAYS']):
            if row['DAY_DIFF'] >= seniority_q80:
                return 3
            elif seniority_q49 <= row['DAY_DIFF'] < seniority_q80:
                return 4
            elif row['DAY_DIFF'] < seniority_q49:
                if row['A01'] + row['A02'] > 0:
                    return 5
                elif row['A01'] + row['A02'] == 0:
                    if row['A07'] >= row['A08']:
                        return 6
                    elif row['A07'] < row['A08']:
                        if row['A19'] == 1:
                            return 7
                        elif row['A19'] == 0:
                            if row['A24'] == 0:
                                return 8
                            elif row['IS_FB'] == 1:
                                return 9
                            elif row['IS_FB'] == 10:
                                return 10
    elif (row['IS_MEMBER'] == 0 and row['IS_MML'] == 0):
        if row['IS_FB'] == 1:
            if row['SUM_of_STEP'] >= step_q51:
                return 11
            elif row['SUM_of_STEP'] < step_q51:
                return 12

    return 13


# 應用 calculate_result 函數到每一行
df['result'] = df.apply(lambda row: calculate_result(row, travel_q51, seniority_q80, seniority_q49, step_q51), axis=1)


df['result']


# 計算 df['result'] 各值的出現次數和占比
result_counts = df['result'].value_counts().sort_index()
result_percentages = df['result'].value_counts(normalize=True).sort_index() * 100


result_counts


result_percentages


pd.DataFrame(result_counts).to_csv('tmp.csv')
pd.DataFrame(result_percentages).to_csv('tmp2.csv')


#AG
tmp = df['A01'] + df['A02']
print(tmp.quantile(0.90))
print(tmp.quantile(0.75))
print(tmp.quantile(0.50))
print(tmp.quantile(0.25))
print(tmp.quantile(0.10))


#0800
print(df['A09'].quantile(0.90))
print(df['A09'].quantile(0.75))
print(df['A09'].quantile(0.50))
print(df['A09'].quantile(0.25))
print(df['A09'].quantile(0.10))


#旅行
print(df['SUM_ISSUE_DAYS'].quantile(0.90))
print(df['SUM_ISSUE_DAYS'].quantile(0.75))
print(df['SUM_ISSUE_DAYS'].quantile(0.50))
print(df['SUM_ISSUE_DAYS'].quantile(0.25))
print(df['SUM_ISSUE_DAYS'].quantile(0.10))


#年資PR
print(df['DAY_DIFF'].quantile(0.90))
print(df['DAY_DIFF'].quantile(0.75))
print(df['DAY_DIFF'].quantile(0.50))
print(df['DAY_DIFF'].quantile(0.25))
print(df['DAY_DIFF'].quantile(0.10))


#MML
print(df['A08'].quantile(0.90))
print(df['A08'].quantile(0.75))
print(df['A08'].quantile(0.50))
print(df['A08'].quantile(0.25))
print(df['A08'].quantile(0.10))


#官網
print(df['A07'].quantile(0.90))
print(df['A07'].quantile(0.75))
print(df['A07'].quantile(0.50))
print(df['A07'].quantile(0.25))
print(df['A07'].quantile(0.10))


sum( (df['IS_FB']==0) & (df['IS_MML']==0)  & (df['IS_MEMBER']==1) & (df['DAY_DIFF']>=9846) & (tmp>=4))


sum( (df['IS_FB']==0) & (df['IS_MML']==0)  & (df['IS_MEMBER']==1) & (df['DAY_DIFF']<1584.0) & (tmp==0))


sum((df['DAY_DIFF']<1584.0) )


sum((df['SUM_ISSUE_DAYS']>=6) & (df['DAY_DIFF']<1584.0)  )


tmp_df = df[(df['DAY_DIFF']<=9846) & (df['DAY_DIFF']>1584.0) & (tmp<12) & (tmp>0)]
len(tmp_df)


tmp_df = df[(df['DAY_DIFF']<=9846) & (df['DAY_DIFF']>1584.0) & (df['SUM_ISSUE_DAYS']>=6)]
len(tmp_df)


tmp_df = df[(df['DAY_DIFF']<=9846) & (df['DAY_DIFF']>1584.0) & ((df['SUM_ISSUE_DAYS'].isnull()) | (df['SUM_ISSUE_DAYS']<6))]
len(tmp_df)


tmp_df = df[(df['DAY_DIFF']<=9846) & (df['DAY_DIFF']>1584.0) & ((df['SUM_ISSUE_DAYS'].isnull()) | (df['SUM_ISSUE_DAYS']<6)) & (tmp<12) & (tmp>0)]
len(tmp_df)


sum(  (tmp_df['A09']==0) &  (tmp_df['A24']==0) & (tmp_df['A13']==0) )


sum(  (tmp_df['A09']>1) )





tmp_df2 = df[(df['DAY_DIFF']<=9846) & (df['DAY_DIFF']>1584.0) & (tmp==0)]
len(tmp_df2)


sum( ( tmp_df2['IS_MEMBER'] > tmp_df2['IS_MML']))


sum( ( tmp_df2['IS_MEMBER'] > tmp_df2['IS_MML']) &  (tmp_df2['A13']==0)  &  (tmp_df2['A14']==0) )


sum( ( tmp_df2['IS_MEMBER'] <= tmp_df2['IS_MML']) & (tmp_df2['HIGH_LV'].isnull()) & (tmp_df2['A08']<8) )


sum( ( tmp_df2['IS_MEMBER'] <= tmp_df2['IS_MML']) & (tmp_df2['A08']>=8) )





tmp_df3 = tmp_df2[ tmp_df2['IS_MEMBER'] > tmp_df2['IS_MML']]


# 遍歷每個欄位並計算元素數量
for column in tmp_df3.columns:
    print(f"Column: {column}")
    print(tmp_df3[column].value_counts())
    print("\n")











from sklearn.tree import DecisionTreeClassifier
from sklearn.tree import plot_tree
from sklearn.cluster import KMeans
import matplotlib.pyplot as plt
from sklearn.preprocessing import StandardScaler
ㄑrom sklearn.impute import SimpleImputer


# 選取需要分群的欄位
columns_to_cluster = ['DAY_DIFF', 'IS_CONTRACT_APC', 'IS_CONTRACT_INC', 'IS_EMP', 
                      'IS_CLAIM', 'IS_FB', 'IS_MEMBER', 'IS_MML', 'IS_ACC', 
                      'MAX_ISSUE_DAYS', 'SUM_ISSUE_DAYS', 'SUM_of_STEP', 
                      'HIGH_LV', 'A01', 'A02', 'A03', 'A05', 'A07', 'A08', 
                      'A09', 'A10', 'A13', 'A15', 'A17', 'A18', 'A19', 'A21', 
                      'A24', 'A99']
# 提取這些欄位的數據
data_to_cluster = df[columns_to_cluster]

# 使用SimpleImputer填補缺失值為0
imputer = SimpleImputer(strategy='constant', fill_value=0)
data_imputed = imputer.fit_transform(data_to_cluster)

# 標準化數據
scaler = StandardScaler()
data_scaled = scaler.fit_transform(data_imputed)

# 使用K-means算法分成12群
kmeans = KMeans(n_clusters=12, random_state=42)
clusters = kmeans.fit_predict(data_scaled)

# 將分群結果添加到原始數據中
data_to_cluster['Cluster'] = clusters


# 查看每個群的中心
cluster_centers = kmeans.cluster_centers_
cluster_centers


# 可視化結果
plt.scatter(data_scaled[:, 0], data_scaled[:, 1], c=clusters, s=50, cmap='viridis')
plt.scatter(cluster_centers[:, 0], cluster_centers[:, 1], c='red', s=200, alpha=0.75)
plt.xlabel('Feature 1')
plt.ylabel('Feature 2')
plt.title('K-means Clustering')
plt.show()


data_to_cluster['Cluster'].value_counts()


!pip install hdbscan


import hdbscan


# 選取需要分群的欄位
columns_to_cluster = ['DAY_DIFF', 'IS_CONTRACT_APC', 'IS_CONTRACT_INC', 'IS_EMP', 
                      'IS_CLAIM', 'IS_FB', 'IS_MEMBER', 'IS_MML', 'IS_ACC', 
                      'MAX_ISSUE_DAYS', 'SUM_ISSUE_DAYS', 'SUM_of_STEP', 
                      'HIGH_LV', 'A01', 'A02', 'A03', 'A05', 'A07', 'A08', 
                      'A09', 'A10', 'A13', 'A15', 'A17', 'A18', 'A19', 'A21', 
                      'A24', 'A99']

# 提取這些欄位的數據
data_to_cluster = df[columns_to_cluster]

# 使用SimpleImputer填補缺失值為0
imputer = SimpleImputer(strategy='constant', fill_value=0)
data_imputed = imputer.fit_transform(data_to_cluster)

# 標準化數據
scaler = StandardScaler()
data_scaled = scaler.fit_transform(data_imputed)

# 使用HDBSCAN算法進行分群
clusterer = hdbscan.HDBSCAN(min_cluster_size=10, gen_min_span_tree=True)
clusters = clusterer.fit_predict(data_scaled)

# 將分群結果添加到原始數據中
data_to_cluster['Cluster'] = clusters


# 可視化結果
plt.scatter(data_scaled[:, 0], data_scaled[:, 1], c=clusters, s=50, cmap='viridis')
plt.xlabel('Feature 1')
plt.ylabel('Feature 2')
plt.title('HDBSCAN Clustering')
plt.show()



