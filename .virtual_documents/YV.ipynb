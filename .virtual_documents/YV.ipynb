import pandas as pd
import numpy as np


import warnings
warnings.filterwarnings('ignore')


df = pd.read_csv('ABT.csv')


df.head()


#欄位名稱
df.columns


df_unique = df.copy()


df = df_unique


df = df[df['IS_MEMBER']==1]


len(df)


len(df_unique)














tmp_n = len(df)
formatted_tmp_n = "{:,}".format(tmp_n)
print(f'''st.markdown(f"<p style='color: #6C6C6C;'>總ID數量：{formatted_tmp_n}</p>", unsafe_allow_html=True)''')

tmp = df['IS_CONTRACT_APC'].sum()
formatted_tmp = "{:,}".format(tmp)
tmp_p = round(tmp/tmp_n*100,2)
print(f'''st.markdown(f"<p style='color: #6C6C6C;'>曾經為要保人：{formatted_tmp}、約{tmp_p}％</p>", unsafe_allow_html=True)''')

tmp = df['IS_CONTRACT_INC'].sum()
formatted_tmp = "{:,}".format(tmp)
tmp_p = round(tmp/tmp_n*100,2)
print(f'''st.markdown(f"<p style='color: #6C6C6C;'>曾經為被保人：{formatted_tmp}、約{tmp_p}％</p>", unsafe_allow_html=True)''')

tmp = df['IS_CLAIM'].sum()
formatted_tmp = "{:,}".format(tmp)
tmp_p = round(tmp/tmp_n*100,2)
print(f'''st.markdown(f"<p style='color: #6C6C6C;'>曾經為理賠事故人：{formatted_tmp}、約{tmp_p}％</p>", unsafe_allow_html=True)''')

tmp = df['IS_EMP'].sum()
formatted_tmp = "{:,}".format(tmp)
tmp_p = round(tmp/tmp_n*100,2)
print(f'''st.markdown(f"<p style='color: #6C6C6C;'>曾經為員工：{formatted_tmp}、約{tmp_p}％</p>", unsafe_allow_html=True)''')

tmp = df['IS_ACC'].sum()
formatted_tmp = "{:,}".format(tmp)
tmp_p = round(tmp/tmp_n*100,2)
print(f'''st.markdown(f"<p style='color: #6C6C6C;'>曾經意外險被保人：{formatted_tmp}、約{tmp_p}％</p>", unsafe_allow_html=True)''')

tmp = df['IS_MEMBER'].sum()
formatted_tmp = "{:,}".format(tmp)
tmp_p = round(tmp/tmp_n*100,2)
print(f'''st.markdown(f"<p style='color: #6C6C6C;'>官網會員：{formatted_tmp}、約{tmp_p}％</p>", unsafe_allow_html=True)''')

tmp = df['IS_MML'].sum()
formatted_tmp = "{:,}".format(tmp)
tmp_p = round(tmp/tmp_n*100,2)
print(f'''st.markdown(f"<p style='color: #6C6C6C;'>MML會員：{formatted_tmp}、約{tmp_p}％</p>", unsafe_allow_html=True)''')

tmp = df['IS_FB'].sum()
formatted_tmp = "{:,}".format(tmp)
tmp_p = round(tmp/tmp_n*100,2)
print(f'''st.markdown(f"<p style='color: #6C6C6C;'>FitBack會員：{formatted_tmp}、約{tmp_p}％</p>", unsafe_allow_html=True)''')

tmp = tmp_n - df['MAX_RGN_CODE'].isnull().sum()
formatted_tmp = "{:,}".format(tmp)
tmp_p = round(tmp/tmp_n*100,2)
print(f'''st.markdown(f"<p style='color: #6C6C6C;'>有旅平險：{formatted_tmp}、約{tmp_p}％</p>", unsafe_allow_html=True)''')

# 選擇指定的欄位
columns_to_check = ['A01', 'A02', 'A03', 'A05', 'A07', 'A08', 'A09', 'A10', 'A13', 'A15', 'A17', 'A18', 'A19', 'A21', 'A24', 'A99']
# 檢查這些欄位是否全為 NaN
all_zero_rows = df[(df[columns_to_check] == 0).all(axis=1)]
tmp = tmp_n - len(all_zero_rows) #至少有一項有值的人數
formatted_tmp = "{:,}".format(tmp)
tmp_p = round(tmp/tmp_n*100,2)
print(f'''st.markdown(f"<p style='color: #6C6C6C;'>至少一項服務通路：{formatted_tmp}、約{tmp_p}％</p>", unsafe_allow_html=True)''')


# 選擇指定的欄位
columns_to_check = ['IS_FB', 'IS_MEMBER', 'IS_MML', 'SUM_ISSUE_DAYS', 'A01', 'A02', 'A03', 'A05', 'A07', 'A08', 'A09', 'A10', 'A13', 'A15', 'A17', 'A18', 'A19', 'A21', 'A24', 'A99']
# 檢查這些欄位是否全為 NaN
all_zero_rows = df[(df[columns_to_check].fillna(0) == 0).all(axis=1)]
tmp =len(all_zero_rows) #至少有一項有值的人數
formatted_tmp = "{:,}".format(tmp)
tmp_p = round(tmp/tmp_n*100,2)
print(f'''st.markdown(f"<p style='color: #6C6C6C;'>什麼都沒有的人(沒旅平沒會員沒MML沒FitBack沒服務軌跡)：{formatted_tmp}、約{tmp_p}％</p>", unsafe_allow_html=True)''')








print(f'''st.write(f"**保險保障統計**(統計至7/1)")''')
tmp_n = len(df)

# 選擇指定的欄位
columns_to_check = ['EFT_CUST']
# 檢查這些欄位是否全為 NaN
etf_cust = (df[columns_to_check]>0).sum()[0]
formatted_tmp = "{:,}".format(etf_cust)
tmp_p = round(etf_cust/tmp_n*100,2)
print(f'''st.markdown(f"<p style='color: #6C6C6C;'>有效契約客戶：{formatted_tmp}、約{tmp_p}％</p>", unsafe_allow_html=True)''')

# 選擇指定的欄位
columns_to_check = ['N_POLICY_NO']
# 檢查這些欄位是否全為 NaN
eft_policy = int(df[columns_to_check].sum())
formatted_tmp = "{:,}".format(eft_policy)
print(f'''st.markdown(f"<p style='color: #6C6C6C;'>有效契約保單數：{formatted_tmp}</p>", unsafe_allow_html=True)''')
tmp_p = round(eft_policy/etf_cust*100,2)
print(f'''st.markdown(f"<p style='color: #6C6C6C;'>平均每個有效客戶有：{tmp_p} 張表單</p>", unsafe_allow_html=True)''')


# 選擇指定的欄位
columns_to_check = ['COUNT_H_HOSPITAL']
# 檢查這些欄位是否全為 NaN
tmp = (df[columns_to_check]>0).sum()[0]
formatted_tmp = "{:,}".format(tmp)
tmp_p = round(tmp/etf_cust*100,2)
print(f'''st.markdown(f"<p style='color: #6C6C6C;'>住院險客戶：{formatted_tmp}、有效客戶的{tmp_p}％</p>", unsafe_allow_html=True)''')
tmp = int(df[columns_to_check].sum())
formatted_tmp = "{:,}".format(tmp)
tmp_p = round(tmp/eft_policy*100,2)
print(f'''st.markdown(f"<p style='color: #6C6C6C;'>住院保單數：{formatted_tmp}、有效保單的{tmp_p}％</p>", unsafe_allow_html=True)''')

# 選擇指定的欄位
columns_to_check = ['COUNT_S_SURGERY']
# 檢查這些欄位是否全為 NaN
tmp = (df[columns_to_check]>0).sum()[0]
formatted_tmp = "{:,}".format(tmp)
tmp_p = round(tmp/etf_cust*100,2)
print(f'''st.markdown(f"<p style='color: #6C6C6C;'>手術險客戶：{formatted_tmp}、有效客戶的{tmp_p}％</p>", unsafe_allow_html=True)''')
tmp = int(df[columns_to_check].sum())
formatted_tmp = "{:,}".format(tmp)
tmp_p = round(tmp/eft_policy*100,2)
print(f'''st.markdown(f"<p style='color: #6C6C6C;'>手術保單數：{formatted_tmp}、有效保單的{tmp_p}％</p>", unsafe_allow_html=True)''')

# 選擇指定的欄位
columns_to_check = ['COUNT_R_REIMBURSEMENT']
# 檢查這些欄位是否全為 NaN
tmp = (df[columns_to_check]>0).sum()[0]
formatted_tmp = "{:,}".format(tmp)
tmp_p = round(tmp/etf_cust*100,2)
print(f'''st.markdown(f"<p style='color: #6C6C6C;'>實支實付險客戶：{formatted_tmp}、有效客戶的{tmp_p}％</p>", unsafe_allow_html=True)''')
tmp = int(df[columns_to_check].sum())
formatted_tmp = "{:,}".format(tmp)
tmp_p = round(tmp/eft_policy*100,2)
print(f'''st.markdown(f"<p style='color: #6C6C6C;'>實支實付保單數：{formatted_tmp}、有效保單的{tmp_p}％</p>", unsafe_allow_html=True)''')

# 選擇指定的欄位
columns_to_check = ['COUNT_M_MAJOR_ILLNESS']
# 檢查這些欄位是否全為 NaN
tmp = (df[columns_to_check]>0).sum()[0]
formatted_tmp = "{:,}".format(tmp)
tmp_p = round(tmp/etf_cust*100,2)
print(f'''st.markdown(f"<p style='color: #6C6C6C;'>重疾險客戶：{formatted_tmp}、有效客戶的{tmp_p}％</p>", unsafe_allow_html=True)''')
tmp = int(df[columns_to_check].sum())
formatted_tmp = "{:,}".format(tmp)
tmp_p = round(tmp/eft_policy*100,2)
print(f'''st.markdown(f"<p style='color: #6C6C6C;'>重疾保單數：{formatted_tmp}、有效保單的{tmp_p}％</p>", unsafe_allow_html=True)''')

# 選擇指定的欄位
columns_to_check = ['COUNT_A_ACCIDENT']
# 檢查這些欄位是否全為 NaN
tmp = (df[columns_to_check]>0).sum()[0]
formatted_tmp = "{:,}".format(tmp)
tmp_p = round(tmp/etf_cust*100,2)
print(f'''st.markdown(f"<p style='color: #6C6C6C;'>意外險客戶：{formatted_tmp}、有效客戶的{tmp_p}％</p>", unsafe_allow_html=True)''')
tmp = int(df[columns_to_check].sum())
formatted_tmp = "{:,}".format(tmp)
tmp_p = round(tmp/eft_policy*100,2)
print(f'''st.markdown(f"<p style='color: #6C6C6C;'>意外險保單數：{formatted_tmp}、有效保單的{tmp_p}％</p>", unsafe_allow_html=True)''')

# 選擇指定的欄位
columns_to_check = ['COUNT_L_LONGTERM_CARE']
# 檢查這些欄位是否全為 NaN
tmp = (df[columns_to_check]>0).sum()[0]
formatted_tmp = "{:,}".format(tmp)
tmp_p = round(tmp/etf_cust*100,2)
print(f'''st.markdown(f"<p style='color: #6C6C6C;'>長照險客戶：{formatted_tmp}、有效客戶的{tmp_p}％</p>", unsafe_allow_html=True)''')
tmp = int(df[columns_to_check].sum())
formatted_tmp = "{:,}".format(tmp)
tmp_p = round(tmp/eft_policy*100,2)
print(f'''st.markdown(f"<p style='color: #6C6C6C;'>長照險保單數：{formatted_tmp}、有效保單的{tmp_p}％</p>", unsafe_allow_html=True)''')


# 選擇指定的欄位
columns_to_check = ['COUNT_D_LIFE']
# 檢查這些欄位是否全為 NaN
tmp = (df[columns_to_check]>0).sum()[0]
formatted_tmp = "{:,}".format(tmp)
tmp_p = round(tmp/etf_cust*100,2)
print(f'''st.markdown(f"<p style='color: #6C6C6C;'>壽險客戶：{formatted_tmp}、有效客戶的{tmp_p}％</p>", unsafe_allow_html=True)''')
tmp = int(df[columns_to_check].sum())
formatted_tmp = "{:,}".format(tmp)
tmp_p = round(tmp/eft_policy*100,2)
print(f'''st.markdown(f"<p style='color: #6C6C6C;'>壽險保單數：{formatted_tmp}、有效保單的{tmp_p}％</p>", unsafe_allow_html=True)''')

# 選擇指定的欄位
columns_to_check = ['COUNT_FR_FIXED_RATE']
# 檢查這些欄位是否全為 NaN
tmp = (df[columns_to_check]>0).sum()[0]
formatted_tmp = "{:,}".format(tmp)
tmp_p = round(tmp/etf_cust*100,2)
print(f'''st.markdown(f"<p style='color: #6C6C6C;'>固定利率傳統理財客戶：{formatted_tmp}、有效客戶的{tmp_p}％</p>", unsafe_allow_html=True)''')
tmp = int(df[columns_to_check].sum())
formatted_tmp = "{:,}".format(tmp)
tmp_p = round(tmp/eft_policy*100,2)
print(f'''st.markdown(f"<p style='color: #6C6C6C;'>固定利率傳統理財保單數：{formatted_tmp}、有效保單的{tmp_p}％</p>", unsafe_allow_html=True)''')

# 選擇指定的欄位
columns_to_check = ['COUNT_IS_VARIABLE_RATE']
# 檢查這些欄位是否全為 NaN
tmp = (df[columns_to_check]>0).sum()[0]
formatted_tmp = "{:,}".format(tmp)
tmp_p = round(tmp/etf_cust*100,2)
print(f'''st.markdown(f"<p style='color: #6C6C6C;'>變動利率傳統理財客戶：{formatted_tmp}、有效客戶的{tmp_p}％</p>", unsafe_allow_html=True)''')
tmp = int(df[columns_to_check].sum())
formatted_tmp = "{:,}".format(tmp)
tmp_p = round(tmp/eft_policy*100,2)
print(f'''st.markdown(f"<p style='color: #6C6C6C;'>變動利率傳統理財保單數：{formatted_tmp}、有效保單的{tmp_p}％</p>", unsafe_allow_html=True)''')

# 選擇指定的欄位
columns_to_check = ['COUNT_I_INVESTMENT']
# 檢查這些欄位是否全為 NaN
tmp = (df[columns_to_check]>0).sum()[0]
formatted_tmp = "{:,}".format(tmp)
tmp_p = round(tmp/etf_cust*100,2)
print(f'''st.markdown(f"<p style='color: #6C6C6C;'>投資型理財商品客戶：{formatted_tmp}、有效客戶的{tmp_p}％</p>", unsafe_allow_html=True)''')
tmp = int(df[columns_to_check].sum())
formatted_tmp = "{:,}".format(tmp)
tmp_p = round(tmp/eft_policy*100,2)
print(f'''st.markdown(f"<p style='color: #6C6C6C;'>投資型理財商品保單數：{formatted_tmp}、有效保單的{tmp_p}％</p>", unsafe_allow_html=True)''')









print(f'''st.write(f"**各通路接觸次數**")''')
tmp_n = len(df)
# 選擇指定的欄位
columns_to_check = ['A01', 'A02']
# 檢查這些欄位是否全為 NaN
all_zero_rows = (df[columns_to_check] == 0).all(axis=1).sum()
tmp = tmp_n - all_zero_rows #至少有一項有值的人數
formatted_tmp_n = "{:,}".format(tmp)
tmp_p = round(tmp/tmp_n*100,2)
print(f'''st.markdown(f"<p style='color: #6C6C6C;'>有業務員服務：{formatted_tmp_n}、約{tmp_p}％</p>", unsafe_allow_html=True)''')


# 選擇指定的欄位
columns_to_check = ['A03']
# 檢查這些欄位是否全為 NaN
tmp = (df[columns_to_check]>0).sum()[0]
formatted_tmp = "{:,}".format(tmp)
tmp_p = round(tmp/tmp_n*100,2)
print(f'''st.markdown(f"<p style='color: #6C6C6C;'>有直效服務：{formatted_tmp}、約{tmp_p}％</p>", unsafe_allow_html=True)''')

# 選擇指定的欄位
columns_to_check = ['A05']
# 檢查這些欄位是否全為 NaN
tmp = (df[columns_to_check]>0).sum()[0]
formatted_tmp = "{:,}".format(tmp)
tmp_p = round(tmp/tmp_n*100,2)
print(f'''st.markdown(f"<p style='color: #6C6C6C;'>有服務中心櫃台服務：{formatted_tmp}、約{tmp_p}％</p>", unsafe_allow_html=True)''')

# 選擇指定的欄位
columns_to_check = ['A07']
# 檢查這些欄位是否全為 NaN
tmp = (df[columns_to_check]>0).sum()[0]
formatted_tmp = "{:,}".format(tmp)
tmp_p = round(tmp/tmp_n*100,2)
print(f'''st.markdown(f"<p style='color: #6C6C6C;'>有官網服務：{formatted_tmp}、約{tmp_p}％</p>", unsafe_allow_html=True)''')

# 選擇指定的欄位
columns_to_check = ['A08']
# 檢查這些欄位是否全為 NaN
tmp = ((df['A08'] > 0) & (df['IS_MML'] == 1)).sum()
formatted_tmp = "{:,}".format(tmp)
tmp_p = round(tmp/tmp_n*100,2)
print(f'''st.markdown(f"<p style='color: #6C6C6C;'>有MML服務：{formatted_tmp}、約{tmp_p}％</p>", unsafe_allow_html=True)''')

# 選擇指定的欄位
columns_to_check = ['A09']
# 檢查這些欄位是否全為 NaN
tmp = (df[columns_to_check]>0).sum()[0]
formatted_tmp = "{:,}".format(tmp)
tmp_p = round(tmp/tmp_n*100,2)
print(f'''st.markdown(f"<p style='color: #6C6C6C;'>有電話_0800服務：{formatted_tmp}、約{tmp_p}％</p>", unsafe_allow_html=True)''')

# 選擇指定的欄位
columns_to_check = ['A10']
# 檢查這些欄位是否全為 NaN
tmp = (df[columns_to_check]>0).sum()[0]
formatted_tmp = "{:,}".format(tmp)
tmp_p = round(tmp/tmp_n*100,2)
print(f'''st.markdown(f"<p style='color: #6C6C6C;'>有電話_0900服務：{formatted_tmp}、約{tmp_p}％</p>", unsafe_allow_html=True)''')

# 選擇指定的欄位
columns_to_check = ['A13']
# 檢查這些欄位是否全為 NaN
tmp = (df[columns_to_check]>0).sum()[0]
formatted_tmp = "{:,}".format(tmp)
tmp_p = round(tmp/tmp_n*100,2)
print(f'''st.markdown(f"<p style='color: #6C6C6C;'>有簡訊服務：{formatted_tmp}、約{tmp_p}％</p>", unsafe_allow_html=True)''')

# 選擇指定的欄位
columns_to_check = ['A15']
# 檢查這些欄位是否全為 NaN
tmp = (df[columns_to_check]>0).sum()[0]
formatted_tmp = "{:,}".format(tmp)
tmp_p = round(tmp/tmp_n*100,2)
print(f'''st.markdown(f"<p style='color: #6C6C6C;'>有停效催繳提醒服務：{formatted_tmp}、約{tmp_p}％</p>", unsafe_allow_html=True)''')

# 選擇指定的欄位
columns_to_check = ['A17']
# 檢查這些欄位是否全為 NaN
tmp = (df[columns_to_check]>0).sum()[0]
formatted_tmp = "{:,}".format(tmp)
tmp_p = round(tmp/tmp_n*100,2)
print(f'''st.markdown(f"<p style='color: #6C6C6C;'>有MAIL HUNTER服務：{formatted_tmp}、約{tmp_p}％</p>", unsafe_allow_html=True)''')

# 選擇指定的欄位
columns_to_check = ['A18']
# 檢查這些欄位是否全為 NaN
tmp = (df[columns_to_check]>0).sum()[0]
formatted_tmp = "{:,}".format(tmp)
tmp_p = round(tmp/tmp_n*100,2)
print(f'''st.markdown(f"<p style='color: #6C6C6C;'>有BILL HUNTER服務：{formatted_tmp}、約{tmp_p}％</p>", unsafe_allow_html=True)''')

# 選擇指定的欄位
columns_to_check = ['A19']
# 檢查這些欄位是否全為 NaN
tmp = (df[columns_to_check]>0).sum()[0]
formatted_tmp = "{:,}".format(tmp)
tmp_p = round(tmp/tmp_n*100,2)
print(f'''st.markdown(f"<p style='color: #6C6C6C;'>有LINE服務：{formatted_tmp}、約{tmp_p}％</p>", unsafe_allow_html=True)''')

# 選擇指定的欄位
columns_to_check = ['A21']
# 檢查這些欄位是否全為 NaN
tmp = (df[columns_to_check]>0).sum()[0]
formatted_tmp = "{:,}".format(tmp)
tmp_p = round(tmp/tmp_n*100,2)
print(f'''st.markdown(f"<p style='color: #6C6C6C;'>有行銷網站服務：{formatted_tmp}、約{tmp_p}％</p>", unsafe_allow_html=True)''')

# 選擇指定的欄位
columns_to_check = ['A24']
# 檢查這些欄位是否全為 NaN
tmp = (df[columns_to_check]>0).sum()[0]
formatted_tmp = "{:,}".format(tmp)
tmp_p = round(tmp/tmp_n*100,2)
print(f'''st.markdown(f"<p style='color: #6C6C6C;'>有紙本通知服務：{formatted_tmp}、約{tmp_p}％</p>", unsafe_allow_html=True)''')


# 選擇指定的欄位
columns_to_check = ['A99']
# 檢查這些欄位是否全為 NaN
tmp = (df[columns_to_check]>0).sum()[0]
formatted_tmp = "{:,}".format(tmp)
tmp_p = round(tmp/tmp_n*100,2)
print(f'''st.markdown(f"<p style='color: #6C6C6C;'>有放款業務服務：{formatted_tmp}、約{tmp_p}％</p>", unsafe_allow_html=True)''')








print(f'''st.write(f"**其他大盤數據**")''')
tmp_n = len(df)

# 選擇指定的欄位
columns_to_check = ['A17']
tmp = (df['HIGH_LV'] == 1).sum()
formatted_tmp_n = "{:,}".format(tmp)
tmp_p = round(tmp/tmp_n*100,2)
print(f'''st.markdown(f"<p style='color: #6C6C6C;'>FitBack探索家：{formatted_tmp_n}、約{tmp_p}％</p>", unsafe_allow_html=True)''')

# 選擇指定的欄位
tmp = (df['HIGH_LV'] == 2).sum()
formatted_tmp_n = "{:,}".format(tmp)
tmp_p = round(tmp/tmp_n*100,2)
print(f'''st.markdown(f"<p style='color: #6C6C6C;'>FitBack實踐家：{formatted_tmp_n}、約{tmp_p}％</p>", unsafe_allow_html=True)''')

# 選擇指定的欄位
tmp = (df['HIGH_LV'] > 2).sum()
formatted_tmp_n = "{:,}".format(tmp)
tmp_p = round(tmp/tmp_n*100,2)
print(f'''st.markdown(f"<p style='color: #6C6C6C;'>FitBack樂享家：{formatted_tmp_n}、約{tmp_p}％</p>", unsafe_allow_html=True)''')

# 選擇指定的欄位
tmp = (df['SUM_of_STEP'] > 0).sum()
formatted_tmp_n = "{:,}".format(tmp)
tmp_p = round(tmp/tmp_n*100,2)
print(f'''st.markdown(f"<p style='color: #6C6C6C;'>FitBack有上傳步數人數：{formatted_tmp_n}、約{tmp_p}％</p>", unsafe_allow_html=True)''')

# 選擇指定的欄位
tmp = df['SUM_of_STEP'].sum()/(df['SUM_of_STEP'] > 0).sum()
tmp = round(tmp,2)
formatted_tmp_n = "{:,}".format(tmp)
tmp_p = round(tmp/tmp_n*100,2)
print(f'''st.markdown(f"<p style='color: #6C6C6C;'>FitBack平均步數：{formatted_tmp_n}</p>", unsafe_allow_html=True)''')












print(f'''st.write(f"**靈獸分類**")''')
tmp_n = len(df)

# 選擇指定的欄位
tmp = (df['CLASS'] == 1).sum()
formatted_tmp_n = "{:,}".format(tmp)
tmp_p = round(tmp/tmp_n*100,2)
print(f'''st.markdown(f"<p style='color: #6C6C6C;'>[C1]傲視獅鷲：{formatted_tmp_n}、約{tmp_p}％</p>", unsafe_allow_html=True)''')

# 選擇指定的欄位
tmp = (df['CLASS'] == 2).sum()
formatted_tmp_n = "{:,}".format(tmp)
tmp_p = round(tmp/tmp_n*100,2)
print(f'''st.markdown(f"<p style='color: #6C6C6C;'>[C2]敏捷雪豹：{formatted_tmp_n}、約{tmp_p}％</p>", unsafe_allow_html=True)''')

# 選擇指定的欄位
tmp = (df['CLASS'] == 3).sum()
formatted_tmp_n = "{:,}".format(tmp)
tmp_p = round(tmp/tmp_n*100,2)
print(f'''st.markdown(f"<p style='color: #6C6C6C;'>[C3]悠遊獨角鯨：{formatted_tmp_n}、約{tmp_p}％</p>", unsafe_allow_html=True)''')

# 選擇指定的欄位
tmp = (df['CLASS'] == 4).sum()
formatted_tmp_n = "{:,}".format(tmp)
tmp_p = round(tmp/tmp_n*100,2)
print(f'''st.markdown(f"<p style='color: #6C6C6C;'>[C4]安逸玄武：{formatted_tmp_n}、約{tmp_p}％</p>", unsafe_allow_html=True)''')

# 選擇指定的欄位
tmp = (df['CLASS'] == 5).sum()
formatted_tmp_n = "{:,}".format(tmp)
tmp_p = round(tmp/tmp_n*100,2)
print(f'''st.markdown(f"<p style='color: #6C6C6C;'>[C5]無懼雷鳥：{formatted_tmp_n}、約{tmp_p}％</p>", unsafe_allow_html=True)''')

# 選擇指定的欄位
tmp = (df['CLASS'] == 6).sum()
formatted_tmp_n = "{:,}".format(tmp)
tmp_p = round(tmp/tmp_n*100,2)
print(f'''st.markdown(f"<p style='color: #6C6C6C;'>[C6]膽識鳳凰：{formatted_tmp_n}、約{tmp_p}％</p>", unsafe_allow_html=True)''')

# 選擇指定的欄位
tmp = (df['CLASS'] == 7).sum()
formatted_tmp_n = "{:,}".format(tmp)
tmp_p = round(tmp/tmp_n*100,2)
print(f'''st.markdown(f"<p style='color: #6C6C6C;'>[C7]睿智九尾狐：{formatted_tmp_n}、約{tmp_p}％</p>", unsafe_allow_html=True)''')

# 選擇指定的欄位
tmp = (df['CLASS'] == 8).sum()
formatted_tmp_n = "{:,}".format(tmp)
tmp_p = round(tmp/tmp_n*100,2)
print(f'''st.markdown(f"<p style='color: #6C6C6C;'>[C8]精明靈蛇：{formatted_tmp_n}、約{tmp_p}％</p>", unsafe_allow_html=True)''')

# 選擇指定的欄位
tmp = (df['CLASS'] == 9).sum()
formatted_tmp_n = "{:,}".format(tmp)
tmp_p = round(tmp/tmp_n*100,2)
print(f'''st.markdown(f"<p style='color: #6C6C6C;'>[C9]仙境白澤：{formatted_tmp_n}、約{tmp_p}％</p>", unsafe_allow_html=True)''')

# 選擇指定的欄位
tmp = (df['CLASS'] == 10).sum()
formatted_tmp_n = "{:,}".format(tmp)
tmp_p = round(tmp/tmp_n*100,2)
print(f'''st.markdown(f"<p style='color: #6C6C6C;'>[C10]共濟神狼：{formatted_tmp_n}、約{tmp_p}％</p>", unsafe_allow_html=True)''')

# 選擇指定的欄位
tmp = (df['CLASS'] == 11).sum()
formatted_tmp_n = "{:,}".format(tmp)
tmp_p = round(tmp/tmp_n*100,2)
print(f'''st.markdown(f"<p style='color: #6C6C6C;'>[C11]機敏麒麟：{formatted_tmp_n}、約{tmp_p}％</p>", unsafe_allow_html=True)''')

# 選擇指定的欄位
tmp = (df['CLASS'] == 12).sum()
formatted_tmp_n = "{:,}".format(tmp)
tmp_p = round(tmp/tmp_n*100,2)
print(f'''st.markdown(f"<p style='color: #6C6C6C;'>[C12]原野金羊毛獸：{formatted_tmp_n}、約{tmp_p}％</p>", unsafe_allow_html=True)''')






df.head()








# 创建对照表
mapping = {
    1: ["傲視獅鷲", "積極手機、健康使用者 #任務值至少6000", "你的人生靈獸是——傲視獅鷲\n\n你積極運動、為未來的健康資產提前做足準備。你現在的每一個決定與努力，形塑成最強大的防禦咒語，如同力量充沛的傲視獅鷲，守護著最重要的人生健康寶藏。"],
    2: ["敏捷雪豹", "有等級且近一年繼續參加FitBack", "你的人生靈獸是——敏捷雪豹\n\n你重視健康，透過運動鍛鍊，為未來做好風險管理。你踏出的每一個步伐、落下的每滴汗水成為抵禦風險的護法咒語，如同矯捷活力的雪豹，能隨時抵禦生活的各種挑戰。"],
    3: ["悠遊獨角鯨", "有等級但近一年沒步數，代表今年不玩了\nApp重度使用者", "你的人生靈獸是——悠遊獨角鯨\n\n你享受自在安逸，用心生活的同時，更注重每時每刻的身心靈平衡。這份專注化身為獨角鯨型態的人生護法，成為你的信心與理性支援。在必要時刻也能以安穩的姿態，迎接各種人生挑戰。"],
    4: ["安逸玄武", "有等級但近一年沒步數，代表今年不玩了\n非App重度使用者", "你的人生靈獸是——安逸玄武\n\n不疾不徐的生活步調是你最講究的人生態度，看似隨性，但要保持悠閒愜意，你也下了許多外人看不到的努力。你對生活的處事態度，化身為沈穩的靈獸玄武，穩健長遠地守護著你的人生道路。"],
    5: ["無懼雷鳥", "有投保旅平險\n居然保人壽公司的旅平險真罕見", "你的人生靈獸是——無懼雷鳥\n\n恣意冒險、盡情體驗，是你的人生準則！儘管如此，你事前研究、準備周全的備援方案，預先做好風險控管。你對冒險的期盼與風險管理的執著，形塑成無懼雷鳥的人生護法靈獸，展現強大氣場和積極姿態，守護著你的每一趟冒險旅途。"],
    6: ["膽識鳳凰", "打電話進0800的人", "你的人生靈獸是——膽識鳳凰\n\n你積極正向、豪爽而無畏懼，即使遇到困難，也會捍衛自己的權益、勇往直前。面對挑戰時毫不畏縮、面以對的行動與態度，為你建構強大的、鳳凰形象的防護咒語，為你抵禦所有來自未來的風險傷害。"],
    7: ["睿智九尾狐", "業務員頻繁接觸者\n平均每月1次", "你的人生靈獸是——睿智九尾狐\n\n你開放，見微知著，對事物有著精準的觀點，這樣的人生特質也反應在你的未來管理策略——有技巧地運用各方資源、迅速而果斷地進行決策，如同睿智的九尾狐，為你展開強大而全面的防禦咒語。"],
    8: ["精明靈蛇", "無加入FitBack\n但卻是數位重度使用者", "你的人生靈獸是——精明靈蛇\n\n你聰穎敏銳，喜歡、更擅長運用數位工具，不僅能幫助你完成目標、更能省下許多時間。勇於學習新事物的熱忱和專注力是你高效率的展現，結合強大的變通與適應能力，像精明靈蛇一般，成為你風險控管的關鍵能力！"],
    9: ["仙境白澤", "無顯著特徵，使用年資分群", "你的人生靈獸是——仙境白澤\n\n你有著卓越的遠見與智慧，深知對未來進行風險控管的重要性，因此進行了長遠思考與積極規劃。源自於人生長期的睿智與積累，為你形塑強大的防護咒語，像仙境白澤一樣，守護著自己和最的家人。"],
    10: ["共濟神狼", "無顯著特徵，使用年資分群", "你的人生靈獸是——共濟神狼\n\n你累積一定的保險資歷，為了預防未來變數影響現在的生活品質，懂得事前做好防禦措施。期間展現的堅持和毅力，化身成神狼形象的護法咒語，穩定而忠實地守護著你的人生。"],
    11: ["機敏麒麟", "無顯著特徵，使用年資分群", "你的人生靈獸是——機敏麒麟\n\n你穩定持續的為不可預知的風險提早規劃，積極參與人生佈局，透過智慧決策，為自己的未來建構起平穩堅固的保護咒語，如同機敏的麒麟獸，提供適當妥貼的防禦魔法。"],
    12: ["原野金羊毛獸", "無顯著特徵，使用年資分群", "你的人生靈獸是——原野金羊毛獸\n\n你開始有了風險管理的念頭，展現對保險規劃的參與度。儘管參與年資不長，但展現出的活力、熱誠和創新的思維，為你開啟更多可行性，就像原野金羊毛獸，建構簇新、力量十足的人生防禦魔法。"]
}

# 示例数据框
data = {
    'CLASS': [1, 2, 3, 4, 5, 6, 7, 8, 9, 10, 11, 12]
}

# 根据CLASS列添加新列
df[['TITLE', 'LOGIC', 'DESC']] = df['CLASS'].apply(lambda x: pd.Series(mapping.get(x)))

df.head()






df_shuffled = df.sample(frac=1).reset_index(drop=True).head(10000)

# 將結果保存為 CSV 文件
df_shuffled.to_csv('ABT_T.csv', index=False)





df_shuffled = df[df['IS_MEMBER']==1].sample(frac=1).reset_index(drop=True).head(10000)

# 將結果保存為 CSV 文件
df_shuffled.to_csv('ABT_T2.csv', index=False)











# 想篩選的ID列表
id_list = ['A18434FFF04818EB88','A1891BB58D88F22679','A2E70374E827C7B79F','F180FCD2AAB6C31297', 'F2145A73B19B29060F','G29791C00F48C59C2A', 'S17E435DA94E7D0BAB', 'U25C08B91577F3BBBF']
names = ['孫O德', '呂O德', '黃O玉', '林O安', '廖O如', '莊O儀', '劉O旗', '林O穎']

# 筛选出指定ID的数据
filtered_data = df[df['ID'].isin(id_list)].copy()

# 添加'NAME'列
filtered_data['NAME'] = names

filtered_data


filtered_data.to_csv('ABT_S.csv', index=False)



























